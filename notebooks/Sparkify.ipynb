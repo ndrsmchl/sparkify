{
 "cells": [
  {
   "cell_type": "markdown",
   "metadata": {},
   "source": [
    "# Sparkify - Capstone Project"
   ]
  },
  {
   "cell_type": "code",
   "execution_count": 1,
   "metadata": {},
   "outputs": [],
   "source": [
    "# import libraries\n",
    "\n",
    "# for local execution\n",
    "import findspark\n",
    "findspark.init()\n",
    "\n",
    "import pyspark\n",
    "\n",
    "from pyspark.sql import SparkSession\n",
    "import pyspark.sql.functions as F"
   ]
  },
  {
   "cell_type": "code",
   "execution_count": 2,
   "metadata": {},
   "outputs": [],
   "source": [
    "import matplotlib.pylab as plt\n",
    "import seaborn as sns\n",
    "sns.set(rc={'figure.figsize':(10, 6)})\n",
    "sns.set_style(\"whitegrid\")\n",
    "sns.set_palette(\"Paired\")\n"
   ]
  },
  {
   "cell_type": "code",
   "execution_count": 3,
   "metadata": {},
   "outputs": [],
   "source": [
    "# create a Spark session\n",
    "#sc = pyspark.SparkContext()\n",
    "\n",
    "spark = SparkSession \\\n",
    "    .builder \\\n",
    "    .appName(\"Sparkify\") \\\n",
    "    .getOrCreate()\n"
   ]
  },
  {
   "cell_type": "markdown",
   "metadata": {},
   "source": [
    "# Load and Clean Dataset\n"
   ]
  },
  {
   "cell_type": "code",
   "execution_count": 5,
   "metadata": {},
   "outputs": [],
   "source": [
    "path = \"../data/medium-sparkify-event-data.json\"\n",
    "event_data_df = spark.read.json(path)"
   ]
  },
  {
   "cell_type": "code",
   "execution_count": 6,
   "metadata": {},
   "outputs": [
    {
     "name": "stdout",
     "output_type": "stream",
     "text": [
      "root\n",
      " |-- artist: string (nullable = true)\n",
      " |-- auth: string (nullable = true)\n",
      " |-- firstName: string (nullable = true)\n",
      " |-- gender: string (nullable = true)\n",
      " |-- itemInSession: long (nullable = true)\n",
      " |-- lastName: string (nullable = true)\n",
      " |-- length: double (nullable = true)\n",
      " |-- level: string (nullable = true)\n",
      " |-- location: string (nullable = true)\n",
      " |-- method: string (nullable = true)\n",
      " |-- page: string (nullable = true)\n",
      " |-- registration: long (nullable = true)\n",
      " |-- sessionId: long (nullable = true)\n",
      " |-- song: string (nullable = true)\n",
      " |-- status: long (nullable = true)\n",
      " |-- ts: long (nullable = true)\n",
      " |-- userAgent: string (nullable = true)\n",
      " |-- userId: string (nullable = true)\n",
      "\n"
     ]
    }
   ],
   "source": [
    "event_data_df.printSchema()"
   ]
  },
  {
   "cell_type": "code",
   "execution_count": 7,
   "metadata": {},
   "outputs": [
    {
     "data": {
      "text/plain": [
       "543705"
      ]
     },
     "execution_count": 7,
     "metadata": {},
     "output_type": "execute_result"
    }
   ],
   "source": [
    "event_data_df.count()"
   ]
  },
  {
   "cell_type": "markdown",
   "metadata": {},
   "source": [
    "### Available visited pages"
   ]
  },
  {
   "cell_type": "code",
   "execution_count": 8,
   "metadata": {},
   "outputs": [
    {
     "name": "stdout",
     "output_type": "stream",
     "text": [
      "+-------------------------+\n",
      "|page                     |\n",
      "+-------------------------+\n",
      "|About                    |\n",
      "|Add Friend               |\n",
      "|Add to Playlist          |\n",
      "|Cancel                   |\n",
      "|Cancellation Confirmation|\n",
      "|Downgrade                |\n",
      "|Error                    |\n",
      "|Help                     |\n",
      "|Home                     |\n",
      "|Login                    |\n",
      "|Logout                   |\n",
      "|NextSong                 |\n",
      "|Register                 |\n",
      "|Roll Advert              |\n",
      "|Save Settings            |\n",
      "|Settings                 |\n",
      "|Submit Downgrade         |\n",
      "|Submit Registration      |\n",
      "|Submit Upgrade           |\n",
      "|Thumbs Down              |\n",
      "|Thumbs Up                |\n",
      "|Upgrade                  |\n",
      "+-------------------------+\n",
      "\n"
     ]
    }
   ],
   "source": [
    "event_data_df.select(\"page\").dropDuplicates().sort(\"page\").show(n=50, truncate=False)"
   ]
  },
  {
   "cell_type": "markdown",
   "metadata": {},
   "source": [
    "### Check for and remove missing values in `userId` and `sessionId` fields"
   ]
  },
  {
   "cell_type": "code",
   "execution_count": 9,
   "metadata": {},
   "outputs": [
    {
     "name": "stdout",
     "output_type": "stream",
     "text": [
      "sessionIds with Null values: 0\n",
      "userIds with Null values: 0\n"
     ]
    }
   ],
   "source": [
    "# Check for Null values in sessionId and userId\n",
    "print(f'sessionIds with Null values: {event_data_df.filter(F.col(\"sessionId\").isNull()).count()}')\n",
    "print(f'userIds with Null values: {event_data_df.filter(F.col(\"userId\").isNull()).count()}')"
   ]
  },
  {
   "cell_type": "code",
   "execution_count": 10,
   "metadata": {},
   "outputs": [
    {
     "name": "stdout",
     "output_type": "stream",
     "text": [
      "userIds that are empty strings: 15700\n",
      "sessionIds that are empty strings: 0\n"
     ]
    }
   ],
   "source": [
    "# Check for empty strings in sessionId and userId\n",
    "print(f'userIds that are empty strings: {event_data_df.filter(F.col(\"userId\") == \"\").count()}')\n",
    "print(f'sessionIds that are empty strings: {event_data_df.filter(F.col(\"sessionId\") == \"\").count()}')"
   ]
  },
  {
   "cell_type": "code",
   "execution_count": 11,
   "metadata": {},
   "outputs": [],
   "source": [
    "event_data_cleaned_df = event_data_df.filter(F.col(\"userId\") != \"\")"
   ]
  },
  {
   "cell_type": "markdown",
   "metadata": {},
   "source": [
    "# Exploratory Data Analysis\n",
    "When you're working with the full dataset, perform EDA by loading a small subset of the data and doing basic manipulations within Spark. In this workspace, you are already provided a small subset of data you can explore.\n",
    "\n",
    "### Define Churn\n",
    "\n",
    "Once you've done some preliminary analysis, create a column `Churn` to use as the label for your model. I suggest using the `Cancellation Confirmation` events to define your churn, which happen for both paid and free users. As a bonus task, you can also look into the `Downgrade` events.\n",
    "\n",
    "### Explore Data\n",
    "Once you've defined churn, perform some exploratory data analysis to observe the behavior for users who stayed vs users who churned. You can start by exploring aggregates on these two groups of users, observing how much of a specific action they experienced per a certain time unit or number of songs played."
   ]
  },
  {
   "cell_type": "markdown",
   "metadata": {},
   "source": [
    "#### Add column `churned` using `Cancellation Confirmation` page visit of a user as an indication"
   ]
  },
  {
   "cell_type": "code",
   "execution_count": 12,
   "metadata": {},
   "outputs": [],
   "source": [
    "from pyspark.sql import Window"
   ]
  },
  {
   "cell_type": "code",
   "execution_count": 13,
   "metadata": {},
   "outputs": [],
   "source": [
    "window_partitioning = Window.partitionBy(\"userId\")\n",
    "\n",
    "churn_data_df = (event_data_cleaned_df\n",
    "                 .withColumn(\"cancelled\", F.col(\"page\") == \"Cancellation Confirmation\")\n",
    "                 .withColumn(\"Churn\", F.max(F.col(\"cancelled\")).over(window_partitioning))\n",
    "                )\n"
   ]
  },
  {
   "cell_type": "code",
   "execution_count": 14,
   "metadata": {},
   "outputs": [
    {
     "name": "stdout",
     "output_type": "stream",
     "text": [
      "Number of users churned: 99\n",
      "Number of users retained: 349\n",
      "Total Number of users: 448\n"
     ]
    }
   ],
   "source": [
    "# Count the distinct number of users who churned\n",
    "dct_users_churned = churn_data_df.filter(F.col(\"Churn\") == True).select(\"userId\").distinct().count()\n",
    "# Count the distinct number of users who have not (yet) churned\n",
    "dct_users_retained = churn_data_df.filter(F.col(\"Churn\") == False).select(\"userId\").distinct().count()\n",
    "\n",
    "print(f\"Number of users churned: {dct_users_churned}\")\n",
    "print(f\"Number of users retained: {dct_users_retained}\")\n",
    "print(f\"Total Number of users: {dct_users_churned + dct_users_retained}\")"
   ]
  },
  {
   "cell_type": "markdown",
   "metadata": {},
   "source": [
    "#### Remove users who have started using the service only recently\n",
    "For users who signed up close to the dataset's end date the fact that they have not cancelled yet might be just due to the limited usage time. However, it is likely that some of these users will churn in the following days or weeks.\n",
    "\n",
    "For this reason the average usage time for users that churned is calculated and users that have been using the service for less than that time period are removed. \n"
   ]
  },
  {
   "cell_type": "code",
   "execution_count": 15,
   "metadata": {},
   "outputs": [],
   "source": [
    "# Add usage time column to data for each user\n",
    "#churn_data_df = churn_data_df.withColumn(\"usage_time_overall\", \n",
    "#                                         F.max(\"ts\").over(window_partitioning)\n",
    "#                                         - F.min(\"ts\").over(window_partitioning))\n"
   ]
  },
  {
   "cell_type": "code",
   "execution_count": 16,
   "metadata": {},
   "outputs": [],
   "source": [
    "# Calculate time until cancellation\n",
    "#mean_usage_time_churned = (churn_data_df\n",
    "#                           .groupBy(\"userId\", \"Churn\")\n",
    "#                           .agg((F.max(\"ts\") - F.min(\"ts\")).alias(\"approx_usage_time\"))\n",
    "#                           .groupBy(\"Churn\")\n",
    "#                           .agg(F.mean(F.col(\"approx_usage_time\")).alias(\"mean_approx_usage_time\"))\n",
    "#                           .filter(F.col(\"Churn\") == True)\n",
    "#                           .collect()[0][\"mean_approx_usage_time\"]\n",
    "#                          )\n",
    "#\n",
    "#print(f\"Average time until a user churned: {mean_usage_time_churned}\")"
   ]
  },
  {
   "cell_type": "code",
   "execution_count": 17,
   "metadata": {},
   "outputs": [],
   "source": [
    "churn_data_filtered_df = churn_data_df\n",
    "#churn_data_filtered_df = churn_data_df.filter(F.col(\"usage_time_overall\") > mean_usage_time_churned)\n",
    "#\n",
    "#count_users_filtered = churn_data_filtered_df.select(\"userId\").distinct().count()\n",
    "#\n",
    "#print(f\"Number of considered users: {count_users_filtered}\")"
   ]
  },
  {
   "cell_type": "code",
   "execution_count": 18,
   "metadata": {},
   "outputs": [
    {
     "data": {
      "text/plain": [
       "DataFrame[artist: string, auth: string, firstName: string, gender: string, itemInSession: bigint, lastName: string, length: double, level: string, location: string, method: string, page: string, registration: bigint, sessionId: bigint, song: string, status: bigint, ts: bigint, userAgent: string, userId: string, cancelled: boolean, Churn: boolean]"
      ]
     },
     "execution_count": 18,
     "metadata": {},
     "output_type": "execute_result"
    }
   ],
   "source": [
    "churn_data_filtered_df"
   ]
  },
  {
   "cell_type": "code",
   "execution_count": 19,
   "metadata": {},
   "outputs": [
    {
     "name": "stdout",
     "output_type": "stream",
     "text": [
      "+-----+-------------------+\n",
      "|Churn| avgAccountLifeTime|\n",
      "+-----+-------------------+\n",
      "| true|5.872436919191919E9|\n",
      "|false|7.521008908309456E9|\n",
      "+-----+-------------------+\n",
      "\n"
     ]
    }
   ],
   "source": [
    "(churn_data_filtered_df\n",
    " .groupBy(\"userId\", \"Churn\", \"registration\")\n",
    " .agg((F.max(F.col(\"ts\")) - F.col(\"registration\")).alias(\"duration\"))\n",
    " .groupBy(\"Churn\")\n",
    " .agg(F.mean(F.col(\"duration\")).alias(\"avgAccountLifeTime\"))\n",
    ").show()\n"
   ]
  },
  {
   "cell_type": "code",
   "execution_count": 20,
   "metadata": {},
   "outputs": [
    {
     "name": "stdout",
     "output_type": "stream",
     "text": [
      "+-----+---------------+-------------------+----------+\n",
      "|Churn|           page|avgEventsPerSession|countPages|\n",
      "+-----+---------------+-------------------+----------+\n",
      "|false|       NextSong|  90.26625226625227|    348518|\n",
      "| true|       NextSong|  78.69309701492537|     84359|\n",
      "|false|      Thumbs Up|  5.057239057239057|     19526|\n",
      "| true|      Thumbs Up| 4.0111940298507465|      4300|\n",
      "|false|           Home| 3.9655529655529658|     15311|\n",
      "| true|           Home| 3.5242537313432836|      3778|\n",
      "|false|Add to Playlist|  2.613312613312613|     10090|\n",
      "| true|Add to Playlist|  2.107276119402985|      2259|\n",
      "| true|    Roll Advert| 2.0391791044776117|      2186|\n",
      "|false|     Add Friend| 1.6964516964516965|      6550|\n",
      "|false|    Roll Advert|  1.447034447034447|      5587|\n",
      "| true|     Add Friend| 1.4337686567164178|      1537|\n",
      "|false|         Logout| 1.2447552447552448|      4806|\n",
      "| true|         Logout| 1.1044776119402986|      1184|\n",
      "| true|    Thumbs Down|  1.078358208955224|      1156|\n",
      "|false|    Thumbs Down| 0.9725459725459725|      3755|\n",
      "| true|      Downgrade| 0.7751865671641791|       831|\n",
      "|false|      Downgrade| 0.7718207718207718|      2980|\n",
      "|false|       Settings| 0.6073556073556073|      2345|\n",
      "| true|       Settings| 0.5774253731343284|       619|\n",
      "+-----+---------------+-------------------+----------+\n",
      "only showing top 20 rows\n",
      "\n"
     ]
    }
   ],
   "source": [
    "# Compare events of churned and retained users\n",
    "avgEventsPerSessionByChurn = (churn_data_filtered_df\n",
    "                    .filter(F.col(\"page\") != \"Cancellation Confirmation\")\n",
    "                    .withColumn(\"countSessionIds\", F.size(F.collect_set(F.col(\"sessionId\")).over(Window.partitionBy(\"Churn\"))))\n",
    "                    .groupBy(\"Churn\", \"page\")\n",
    "                    .agg((F.count(F.col(\"page\")) / F.first(F.col(\"countSessionIds\"))).alias(\"avgEventsPerSession\"),\n",
    "                          F.count(F.col(\"page\")).alias(\"countPages\"))\n",
    "                    .orderBy(F.desc(\"avgEventsPerSession\"), \"Churn\", \"page\")\n",
    "                   )\n",
    "\n",
    "avgEventsPerSessionByChurn.show()"
   ]
  },
  {
   "cell_type": "code",
   "execution_count": 21,
   "metadata": {},
   "outputs": [
    {
     "data": {
      "image/png": "[encoded data removed]",
      "text/plain": [
       "<Figure size 720x432 with 1 Axes>"
      ]
     },
     "metadata": {},
     "output_type": "display_data"
    }
   ],
   "source": [
    "ax = sns.barplot(data=avgEventsPerSessionByChurn.toPandas(), x=\"page\", y=\"avgEventsPerSession\", hue=\"Churn\")\n",
    "plt.xticks(rotation=-45, horizontalalignment=\"left\");\n"
   ]
  },
  {
   "cell_type": "markdown",
   "metadata": {},
   "source": [
    "Users who churned had a lower average of songs per session than users who did not. "
   ]
  },
  {
   "cell_type": "markdown",
   "metadata": {},
   "source": [
    "Since the values for `NextSong` differ too much to judge the difference, here's a diagram without the `NextSong` page."
   ]
  },
  {
   "cell_type": "code",
   "execution_count": 22,
   "metadata": {},
   "outputs": [
    {
     "data": {
      "image/png": "[encoded data removed]",
      "text/plain": [
       "<Figure size 720x432 with 1 Axes>"
      ]
     },
     "metadata": {},
     "output_type": "display_data"
    }
   ],
   "source": [
    "ax = sns.barplot(data=avgEventsPerSessionByChurn.filter(F.col(\"page\") != \"NextSong\").toPandas(), x=\"page\", y=\"avgEventsPerSession\", hue=\"Churn\")\n",
    "plt.xticks(rotation=-45, horizontalalignment=\"left\");\n"
   ]
  },
  {
   "cell_type": "markdown",
   "metadata": {},
   "source": [
    "For most of the pages the event ratio of actions is similar between users who churned and those who have not yet churned. \n",
    "\n",
    "The most significant difference can be seen for the `Thumbs Up` and `Roll Advert` page. Users who churned give less `Thumbs up` indicating that the available or recommended music does not reflect their music taste. Therefore, the count of `Roll Advert` events is considered as a feature. \n",
    "\n",
    "Further page counts that might hint at a potential discriminating factor between users who churned and those who didn't are:\n",
    "- `Thumbs Down`: The ratio for this event is aligned with the one for `Thumbs Up`: the users who churned gave more `Thumbs Down` than users who did not.\n",
    "- `Add Friend` & `Add to Playlist`: Users who churned used the app features slightly fewer times than users who did not.\n",
    "- `Help` & `Settings`: Users who churned interacted less with the service. \n",
    "\n",
    "(Interestingly, users that had a paid plan before, churned more often than those who never upgraded. The reasons behind this could be manifold; two potential explanation might be that users did not know they could back to the free plan by submitting a downgrade and cancelled instead. Another explanation might be that users who upgraded were not satisfied with the free offer and therefore tried the paid plan which did not fulfill their expectations either.)\n"
   ]
  },
  {
   "cell_type": "markdown",
   "metadata": {},
   "source": [
    "##### Average listening time before selecting next song"
   ]
  },
  {
   "cell_type": "code",
   "execution_count": 23,
   "metadata": {},
   "outputs": [],
   "source": [
    "avg_length_by_churn = (churn_data_filtered_df\n",
    "                       .select(\"length\", \"page\", \"Churn\")\n",
    "                       .orderBy(\"length\")\n",
    "                       .filter(F.col(\"page\") == \"NextSong\")\n",
    "                       .groupBy(\"Churn\")\n",
    "                       .agg(F.mean(F.col(\"length\")), F.stddev_pop(F.col(\"length\")))\n",
    "                      )"
   ]
  },
  {
   "cell_type": "code",
   "execution_count": 24,
   "metadata": {},
   "outputs": [
    {
     "name": "stdout",
     "output_type": "stream",
     "text": [
      "+-----+------------------+------------------+\n",
      "|Churn|       avg(length)|stddev_pop(length)|\n",
      "+-----+------------------+------------------+\n",
      "| true|248.99398360601714| 98.49219687546936|\n",
      "|false| 248.5848635245238| 98.39310327670415|\n",
      "+-----+------------------+------------------+\n",
      "\n"
     ]
    }
   ],
   "source": [
    "avg_length_by_churn.show()"
   ]
  },
  {
   "cell_type": "markdown",
   "metadata": {},
   "source": [
    "##### Average number of songs per Session"
   ]
  },
  {
   "cell_type": "code",
   "execution_count": 25,
   "metadata": {},
   "outputs": [],
   "source": [
    "avg_songs_per_session_by_churn = (churn_data_filtered_df\n",
    "                                  .select(\"sessionId\", \"page\", \"Churn\")\n",
    "                                  .filter(F.col(\"page\") == \"NextSong\")\n",
    "                                  .groupBy(\"sessionId\", \"Churn\")\n",
    "                                  .count()\n",
    "                                  .groupBy(\"Churn\")\n",
    "                                  .agg(F.mean(F.col(\"count\")).alias(\"avg_songs_per_session\"))\n",
    "                                 )"
   ]
  },
  {
   "cell_type": "code",
   "execution_count": 26,
   "metadata": {},
   "outputs": [
    {
     "name": "stdout",
     "output_type": "stream",
     "text": [
      "+-----+---------------------+\n",
      "|Churn|avg_songs_per_session|\n",
      "+-----+---------------------+\n",
      "| true|    80.72631578947369|\n",
      "|false|    92.22492722942577|\n",
      "+-----+---------------------+\n",
      "\n"
     ]
    }
   ],
   "source": [
    "avg_songs_per_session_by_churn.show()"
   ]
  },
  {
   "cell_type": "code",
   "execution_count": 27,
   "metadata": {},
   "outputs": [
    {
     "data": {
      "image/png": "[encoded data removed]",
      "text/plain": [
       "<Figure size 720x432 with 1 Axes>"
      ]
     },
     "metadata": {},
     "output_type": "display_data"
    }
   ],
   "source": [
    "ax = sns.barplot(data=avg_songs_per_session_by_churn.toPandas(), x=\"Churn\", y=\"avg_songs_per_session\")\n",
    "plt.xticks(rotation=-45, horizontalalignment=\"left\");"
   ]
  },
  {
   "cell_type": "markdown",
   "metadata": {},
   "source": [
    "##### Number of artists"
   ]
  },
  {
   "cell_type": "code",
   "execution_count": 28,
   "metadata": {},
   "outputs": [
    {
     "name": "stdout",
     "output_type": "stream",
     "text": [
      "+-----+------------------+\n",
      "|Churn|avg(count(artist))|\n",
      "+-----+------------------+\n",
      "| true| 592.7373737373738|\n",
      "|false| 677.7707736389685|\n",
      "+-----+------------------+\n",
      "\n"
     ]
    }
   ],
   "source": [
    "churn_data_filtered_df.groupBy(\"userId\", \"Churn\").agg(F.countDistinct(F.col(\"artist\"))).groupBy(\"Churn\").mean().show()\n"
   ]
  },
  {
   "cell_type": "markdown",
   "metadata": {},
   "source": [
    "##### Number of songs"
   ]
  },
  {
   "cell_type": "code",
   "execution_count": 29,
   "metadata": {
    "scrolled": true
   },
   "outputs": [
    {
     "name": "stdout",
     "output_type": "stream",
     "text": [
      "+-----+-----------------+\n",
      "|Churn| avg(count(song))|\n",
      "+-----+-----------------+\n",
      "| true|756.6161616161617|\n",
      "|false|879.3782234957021|\n",
      "+-----+-----------------+\n",
      "\n"
     ]
    }
   ],
   "source": [
    "churn_data_filtered_df.groupBy(\"userId\", \"Churn\").agg(F.countDistinct(F.col(\"song\"))).groupBy(\"Churn\").mean().show()\n"
   ]
  },
  {
   "cell_type": "code",
   "execution_count": 30,
   "metadata": {},
   "outputs": [],
   "source": [
    "# Converted date does not make sense\n",
    "#churn_data_df.withColumn(\"time\", F.to_timestamp(F.col(\"ts\"))).select(\"time\").show(truncate=False)"
   ]
  },
  {
   "cell_type": "markdown",
   "metadata": {},
   "source": [
    "##### Churn by gender"
   ]
  },
  {
   "cell_type": "code",
   "execution_count": 31,
   "metadata": {},
   "outputs": [
    {
     "name": "stdout",
     "output_type": "stream",
     "text": [
      "+-----+------+-----+-------------------+\n",
      "|Churn|gender|count|              ratio|\n",
      "+-----+------+-----+-------------------+\n",
      "| true|     F|   45|0.22727272727272727|\n",
      "|false|     F|  153| 0.7727272727272727|\n",
      "|false|     M|  196|              0.784|\n",
      "| true|     M|   54|              0.216|\n",
      "+-----+------+-----+-------------------+\n",
      "\n"
     ]
    }
   ],
   "source": [
    "churn_by_gender = (churn_data_filtered_df\n",
    "                   .select(\"userId\", \"Churn\", \"gender\")\n",
    "                   .distinct()\n",
    "                   .groupBy(\"Churn\", \"gender\")\n",
    "                   .count()\n",
    "                   .withColumn(\"ratio\", F.col(\"count\") / F.sum(F.col(\"count\")).over(Window.partitionBy(\"gender\")))\n",
    "                  )\n",
    "\n",
    "churn_by_gender.show()\n"
   ]
  },
  {
   "cell_type": "code",
   "execution_count": 32,
   "metadata": {},
   "outputs": [
    {
     "data": {
      "image/png": "[encoded data removed]",
      "text/plain": [
       "<Figure size 720x432 with 1 Axes>"
      ]
     },
     "metadata": {},
     "output_type": "display_data"
    }
   ],
   "source": [
    "ax = sns.barplot(data=churn_by_gender.toPandas(), x=\"Churn\", y=\"ratio\", hue=\"gender\")\n",
    "plt.xticks(rotation=-45, horizontalalignment=\"left\");\n"
   ]
  },
  {
   "cell_type": "markdown",
   "metadata": {},
   "source": [
    "##### Churn by location"
   ]
  },
  {
   "cell_type": "code",
   "execution_count": 33,
   "metadata": {},
   "outputs": [
    {
     "name": "stdout",
     "output_type": "stream",
     "text": [
      "+-----+-----+-----+-------------------+\n",
      "|Churn|state|count|              ratio|\n",
      "+-----+-----+-----+-------------------+\n",
      "| true|   AZ|    2|                0.2|\n",
      "|false|   AZ|    8|                0.8|\n",
      "| true|   SC|    2|0.16666666666666666|\n",
      "|false|   SC|   10| 0.8333333333333334|\n",
      "| true|   LA|    2|                0.4|\n",
      "|false|   LA|    3|                0.6|\n",
      "|false|   MN|    3|                1.0|\n",
      "| true|   NJ|    3|                0.5|\n",
      "|false|   NJ|    3|                0.5|\n",
      "| true|   OR|    1| 0.3333333333333333|\n",
      "|false|   OR|    2| 0.6666666666666666|\n",
      "| true|   VA|    2| 0.3333333333333333|\n",
      "|false|   VA|    4| 0.6666666666666666|\n",
      "| true|   KY|    3|               0.75|\n",
      "|false|   KY|    1|               0.25|\n",
      "|false|   NH|    8|                0.8|\n",
      "| true|   NH|    2|                0.2|\n",
      "|false|   MI|    8| 0.7272727272727273|\n",
      "| true|   MI|    3| 0.2727272727272727|\n",
      "|false|   NV|    3|                1.0|\n",
      "+-----+-----+-----+-------------------+\n",
      "only showing top 20 rows\n",
      "\n"
     ]
    }
   ],
   "source": [
    "churn_by_state = (churn_data_filtered_df\n",
    "                  .withColumn(\"state\", F.substring(F.col(\"location\"), -2, 2))\n",
    "                  .select(\"userId\", \"Churn\", \"state\")\n",
    "                  .distinct()\n",
    "                  .groupBy(\"Churn\", \"state\")\n",
    "                  .count()\n",
    "                  .withColumn(\"ratio\", F.col(\"count\") / F.sum(F.col(\"count\")).over(Window.partitionBy(\"state\")))\n",
    "                  )\n",
    "                \n",
    "\n",
    "churn_by_state.show()"
   ]
  },
  {
   "cell_type": "code",
   "execution_count": 142,
   "metadata": {},
   "outputs": [
    {
     "data": {
      "image/png": "[encoded data removed]",
      "text/plain": [
       "<Figure size 1008x360 with 1 Axes>"
      ]
     },
     "metadata": {},
     "output_type": "display_data"
    }
   ],
   "source": [
    "plt.figure(figsize=(14,5))\n",
    "ax = sns.barplot(data=churn_by_state.orderBy(\"state\").toPandas(), x=\"state\", y=\"ratio\", hue=\"Churn\")\n",
    "plt.xticks(rotation=-45);"
   ]
  },
  {
   "cell_type": "markdown",
   "metadata": {},
   "source": [
    "Limitation: Due to the limited dataset size used, some states only have very few records. The validity is therefore expected to be limited."
   ]
  },
  {
   "cell_type": "markdown",
   "metadata": {},
   "source": [
    "##### Churn by device/access"
   ]
  },
  {
   "cell_type": "code",
   "execution_count": 35,
   "metadata": {},
   "outputs": [
    {
     "name": "stdout",
     "output_type": "stream",
     "text": [
      "+-----+--------------+-----+-------------------+\n",
      "|Churn|        device|count|              ratio|\n",
      "+-----+--------------+-----+-------------------+\n",
      "|false|          iPad|    9|                1.0|\n",
      "|false|           X11|   21| 0.8076923076923077|\n",
      "| true|           X11|    5|0.19230769230769232|\n",
      "| true|Windows NT 6.3|    6|0.16666666666666666|\n",
      "|false|Windows NT 6.3|   30| 0.8333333333333334|\n",
      "|false|        iPhone|    7| 0.3888888888888889|\n",
      "| true|        iPhone|   11| 0.6111111111111112|\n",
      "|false|Windows NT 6.2|   10| 0.6666666666666666|\n",
      "| true|Windows NT 6.2|    5| 0.3333333333333333|\n",
      "| true|     Macintosh|   35| 0.2023121387283237|\n",
      "|false|     Macintosh|  138| 0.7976878612716763|\n",
      "| true|Windows NT 5.1|    1|                1.0|\n",
      "|false|    compatible|   11| 0.8461538461538461|\n",
      "| true|    compatible|    2|0.15384615384615385|\n",
      "|false|Windows NT 6.0|    1|                1.0|\n",
      "| true|Windows NT 6.1|   30|0.21897810218978103|\n",
      "|false|Windows NT 6.1|  107|  0.781021897810219|\n",
      "|false|       unknown|   15| 0.7894736842105263|\n",
      "| true|       unknown|    4|0.21052631578947367|\n",
      "+-----+--------------+-----+-------------------+\n",
      "\n"
     ]
    }
   ],
   "source": [
    "churn_by_device = (churn_data_filtered_df\n",
    "                   .select(\"userId\", \"userAgent\", \"Churn\")\n",
    "                   .distinct()\n",
    "                   .withColumn(\"device\", F.regexp_extract(F.col(\"userAgent\"), r\"(?<=\\()([^();]*(?=\\;))\", 0))\n",
    "                   .groupBy(\"Churn\", \"device\")\n",
    "                   .count()\n",
    "                   .withColumn(\"ratio\", F.col(\"count\") / F.sum(F.col(\"count\")).over(Window.partitionBy(\"device\")))\n",
    "                   .replace(\"\", \"unknown\", [\"device\"])\n",
    "                  )\n",
    "\n",
    "churn_by_device.show()"
   ]
  },
  {
   "cell_type": "code",
   "execution_count": 144,
   "metadata": {},
   "outputs": [
    {
     "data": {
      "image/png": "[encoded data removed]",
      "text/plain": [
       "<Figure size 720x432 with 1 Axes>"
      ]
     },
     "metadata": {},
     "output_type": "display_data"
    }
   ],
   "source": [
    "ax = sns.barplot(data=churn_by_device.orderBy(\"device\").toPandas(), x=\"device\", y=\"ratio\", hue=\"Churn\")\n",
    "plt.xticks(rotation=-45, horizontalalignment=\"left\");"
   ]
  },
  {
   "cell_type": "markdown",
   "metadata": {},
   "source": [
    "##### Level in which the user was when she cancelled"
   ]
  },
  {
   "cell_type": "code",
   "execution_count": 37,
   "metadata": {},
   "outputs": [
    {
     "name": "stdout",
     "output_type": "stream",
     "text": [
      "+-----+-----+-------------------+\n",
      "|level|count|              ratio|\n",
      "+-----+-----+-------------------+\n",
      "| free|   32|0.32323232323232326|\n",
      "| paid|   67| 0.6767676767676768|\n",
      "+-----+-----+-------------------+\n",
      "\n"
     ]
    }
   ],
   "source": [
    "churn_by_level = (churn_data_filtered_df\n",
    "                  .filter(F.col(\"page\") == \"Cancellation Confirmation\")\n",
    "                  .groupBy(\"level\")\n",
    "                  .count()\n",
    "                  .withColumn(\"ratio\", F.col(\"count\") / F.sum(F.col(\"count\")).over(Window.partitionBy()))\n",
    "                 )\n",
    "\n",
    "churn_by_level.show()"
   ]
  },
  {
   "cell_type": "code",
   "execution_count": 38,
   "metadata": {},
   "outputs": [
    {
     "data": {
      "image/png": "[encoded data removed]",
      "text/plain": [
       "<Figure size 720x432 with 1 Axes>"
      ]
     },
     "metadata": {},
     "output_type": "display_data"
    }
   ],
   "source": [
    "ax = sns.barplot(data=churn_by_level.toPandas(), x=\"level\", y=\"ratio\")\n",
    "plt.xticks(rotation=-45, horizontalalignment=\"left\");"
   ]
  },
  {
   "cell_type": "markdown",
   "metadata": {},
   "source": [
    "At the time when users churned more users had been using a paid plan."
   ]
  },
  {
   "cell_type": "markdown",
   "metadata": {},
   "source": [
    "# Feature Engineering\n",
    "Once you've familiarized yourself with the data, build out the features you find promising to train your model on. To work with the full dataset, you can follow the following steps.\n",
    "- Write a script to extract the necessary features from the smaller subset of data\n",
    "- Ensure that your script is scalable, using the best practices discussed in Lesson 3\n",
    "- Try your script on the full data set, debugging your script if necessary\n",
    "\n",
    "If you are working in the classroom workspace, you can just extract features based on the small subset of data contained here. Be sure to transfer over this work to the larger dataset when you work on your Spark cluster."
   ]
  },
  {
   "cell_type": "markdown",
   "metadata": {},
   "source": [
    "### Feature extraction"
   ]
  },
  {
   "cell_type": "code",
   "execution_count": 39,
   "metadata": {},
   "outputs": [],
   "source": [
    "# Check that length only exists for \"NextSong\" page records\n",
    "# churn_data_filtered_df.filter(F.col(\"length\").isNotNull()).select(\"page\").distinct().show()"
   ]
  },
  {
   "cell_type": "code",
   "execution_count": 40,
   "metadata": {},
   "outputs": [],
   "source": [
    "# Aggregate dataframe to user level\n",
    "data_agg_by_user_df = (churn_data_filtered_df\n",
    "                       .withColumn(\"device\", F.regexp_extract(F.col(\"userAgent\"), r\"(?<=\\()([^();]*(?=\\;))\", 0))\n",
    "                       .withColumn(\"state\", F.substring(F.col(\"location\"), -2, 2))\n",
    "                       .withColumn(\"latestLevel\", F.last(\"level\").over(Window.partitionBy(\"userId\").orderBy(\"ts\")))\n",
    "                       .withColumn(\"accountLifeTime\", F.max(\"ts\").over(Window.partitionBy(\"userId\")) - F.col(\"registration\"))\n",
    "                       .filter(F.col(\"page\").isin(\"NextSong\", \"Roll Advert\", \"Thumbs Down\", \"Add Friend\", \n",
    "                                                  \"Settings\", \"Help\", \"Add to Playlist\"))\n",
    "                       .groupBy(\"userId\") # Aggregate per User\n",
    "                       .agg(F.countDistinct(\"song\").alias(\"countSongs\"),\n",
    "                            F.countDistinct(\"artist\").alias(\"countArtists\"),\n",
    "                            F.collect_list(\"page\").alias(\"pages\"), \n",
    "                            F.countDistinct(\"sessionId\").alias(\"countSessions\"),\n",
    "                            F.mean(F.col(\"length\")).alias(\"avgLength\"), \n",
    "                            F.stddev_pop(F.col(\"length\")).alias(\"stdDevLength\"),\n",
    "                            F.collect_set(\"device\").alias(\"devices\"),\n",
    "                            F.collect_set(\"state\").alias(\"states\"),\n",
    "                            F.first(\"gender\").alias(\"gender\"),\n",
    "                            F.first(\"latestLevel\").alias(\"latestLevel\"),\n",
    "                            F.first(\"accountLifeTime\").alias(\"accountLifeTime\"),\n",
    "                            F.max(\"Churn\").alias(\"label\")\n",
    "                           )\n",
    "                       .withColumn(\"countSessionsInverse\", F.lit(1) / F.col(\"countSessions\"))\n",
    "                       .withColumn(\"label\", F.when(F.col(\"label\") == True, 1.0).otherwise(0.0))\n",
    "                   )\n"
   ]
  },
  {
   "cell_type": "code",
   "execution_count": 41,
   "metadata": {},
   "outputs": [],
   "source": [
    "# import required classes\n",
    "from pyspark.ml.feature import CountVectorizer, StringIndexer, OneHotEncoder, \\\n",
    "                               Interaction, VectorAssembler, StandardScaler\n"
   ]
  },
  {
   "cell_type": "markdown",
   "metadata": {},
   "source": [
    "#### CountVectorizer: `pages`, `devices`, `states` "
   ]
  },
  {
   "cell_type": "code",
   "execution_count": 42,
   "metadata": {},
   "outputs": [],
   "source": [
    "# Use CountVectorizer on \"devices\" and \"states\" for cases when one uses accesses the service \n",
    "# from different devices/OS and/or states\n",
    "cv_cols_in = [\"pages\", \"devices\", \"states\"]\n",
    "cv_cols_out = [cv_col_in + \"_cv\" for cv_col_in in cv_cols_in]"
   ]
  },
  {
   "cell_type": "code",
   "execution_count": 43,
   "metadata": {},
   "outputs": [],
   "source": [
    "cvs = [CountVectorizer(inputCol=cv_col_in, outputCol=cv_col_out) \\\n",
    "       for cv_col_in, cv_col_out in zip(cv_cols_in, cv_cols_out)]\n"
   ]
  },
  {
   "cell_type": "markdown",
   "metadata": {},
   "source": [
    "#### Interaction: Calculation of average counts of pages per session per user"
   ]
  },
  {
   "cell_type": "code",
   "execution_count": 44,
   "metadata": {},
   "outputs": [],
   "source": [
    "# Convert column \"countSessionsInverse\" into a vector to work with \"Interaction\"\n",
    "va1 = VectorAssembler(inputCols=[\"countSessionsInverse\"], outputCol=\"countSessionsInverseVec_va1\")\n"
   ]
  },
  {
   "cell_type": "code",
   "execution_count": 45,
   "metadata": {},
   "outputs": [],
   "source": [
    "ia = Interaction(inputCols=[\"pages_cv\", \"countSessionsInverseVec_va1\"], outputCol=\"pages_ia\")\n"
   ]
  },
  {
   "cell_type": "markdown",
   "metadata": {},
   "source": [
    "#### StringIndexer & OneHotEncoder: `gender`, `latestLevel`"
   ]
  },
  {
   "cell_type": "code",
   "execution_count": 46,
   "metadata": {},
   "outputs": [],
   "source": [
    "si_cols_in = [\"gender\", \"latestLevel\"]\n",
    "si_cols_out = [si_col_in + \"_si\" for si_col_in in si_cols_in]\n",
    "\n",
    "si = StringIndexer(inputCols=si_cols_in, outputCols=si_cols_out)\n",
    "\n",
    "ohe_cols_in = si_cols_out\n",
    "ohe_cols_out = [si_col_in + \"_ohe\" for si_col_in in si_cols_in]\n",
    "ohe = OneHotEncoder(inputCols=ohe_cols_in, outputCols=ohe_cols_out)"
   ]
  },
  {
   "cell_type": "markdown",
   "metadata": {},
   "source": [
    "#### VectorAssembler: Assemble all feature columns"
   ]
  },
  {
   "cell_type": "code",
   "execution_count": 47,
   "metadata": {},
   "outputs": [],
   "source": [
    "features = [\"devices_cv\", \"states_cv\", \"pages_ia\", \"gender_ohe\", \"latestLevel_ohe\",\n",
    "            \"avgLength\", \"stdDevLength\", \"countSessions\", \"countArtists\", \"countSongs\"]\n",
    "va2 = VectorAssembler(inputCols=features, outputCol=\"features\")"
   ]
  },
  {
   "cell_type": "markdown",
   "metadata": {},
   "source": [
    "#### Standardize features"
   ]
  },
  {
   "cell_type": "code",
   "execution_count": 48,
   "metadata": {},
   "outputs": [],
   "source": [
    "ss = StandardScaler(withMean=True, withStd=True, inputCol=\"features\", outputCol=\"scaledFeatures\")"
   ]
  },
  {
   "cell_type": "markdown",
   "metadata": {},
   "source": [
    "# Modeling\n",
    "Split the full dataset into train, test, and validation sets. Test out several of the machine learning methods you learned. Evaluate the accuracy of the various models, tuning parameters as necessary. Determine your winning model based on test accuracy and report results on the validation set. Since the churned users are a fairly small subset, I suggest using F1 score as the metric to optimize."
   ]
  },
  {
   "cell_type": "markdown",
   "metadata": {},
   "source": [
    "### Split data"
   ]
  },
  {
   "cell_type": "code",
   "execution_count": 49,
   "metadata": {},
   "outputs": [],
   "source": [
    "trainValSet, testSet = data_agg_by_user_df.randomSplit([0.8, 0.2], seed=42)"
   ]
  },
  {
   "cell_type": "markdown",
   "metadata": {},
   "source": [
    "### Models"
   ]
  },
  {
   "cell_type": "markdown",
   "metadata": {},
   "source": [
    "#### Logistic Regression"
   ]
  },
  {
   "cell_type": "code",
   "execution_count": 50,
   "metadata": {},
   "outputs": [],
   "source": [
    "from pyspark.ml.classification import LogisticRegression"
   ]
  },
  {
   "cell_type": "code",
   "execution_count": 51,
   "metadata": {
    "scrolled": true
   },
   "outputs": [],
   "source": [
    "lr = LogisticRegression(featuresCol=\"scaledFeatures\", labelCol=\"label\")\n"
   ]
  },
  {
   "cell_type": "markdown",
   "metadata": {},
   "source": [
    "#### Random Forest Classifier"
   ]
  },
  {
   "cell_type": "code",
   "execution_count": 52,
   "metadata": {},
   "outputs": [],
   "source": [
    "# Set Checkpoint directory for rfc \n",
    "spark.sparkContext.setCheckpointDir(\"tmp/checkpoints\")"
   ]
  },
  {
   "cell_type": "code",
   "execution_count": 53,
   "metadata": {},
   "outputs": [],
   "source": [
    "from pyspark.ml.classification import RandomForestClassifier"
   ]
  },
  {
   "cell_type": "code",
   "execution_count": 54,
   "metadata": {},
   "outputs": [],
   "source": [
    "rfc = RandomForestClassifier(featuresCol=\"scaledFeatures\", labelCol=\"label\")\n"
   ]
  },
  {
   "cell_type": "markdown",
   "metadata": {},
   "source": [
    "#### Gradient-Boosted Trees Classifier"
   ]
  },
  {
   "cell_type": "code",
   "execution_count": 55,
   "metadata": {},
   "outputs": [],
   "source": [
    "from pyspark.ml.classification import GBTClassifier"
   ]
  },
  {
   "cell_type": "code",
   "execution_count": 56,
   "metadata": {},
   "outputs": [],
   "source": [
    "gbtc = GBTClassifier(featuresCol=\"scaledFeatures\", labelCol=\"label\")\n"
   ]
  },
  {
   "cell_type": "markdown",
   "metadata": {},
   "source": [
    "#### Linear Support Vector Machine"
   ]
  },
  {
   "cell_type": "code",
   "execution_count": 57,
   "metadata": {},
   "outputs": [],
   "source": [
    "from pyspark.ml.classification import LinearSVC"
   ]
  },
  {
   "cell_type": "code",
   "execution_count": 58,
   "metadata": {},
   "outputs": [],
   "source": [
    "lsvc = LinearSVC(featuresCol=\"scaledFeatures\", labelCol=\"label\")"
   ]
  },
  {
   "cell_type": "markdown",
   "metadata": {},
   "source": [
    "### Pipeline Creation"
   ]
  },
  {
   "cell_type": "code",
   "execution_count": 59,
   "metadata": {},
   "outputs": [],
   "source": [
    "from pyspark.ml import Pipeline\n"
   ]
  },
  {
   "cell_type": "code",
   "execution_count": 60,
   "metadata": {},
   "outputs": [],
   "source": [
    "def make_pipeline(feature_preprocessing_list, classifier=None):\n",
    "    \"\"\"\n",
    "    Returns a Pipeline object with stages given by inputs.\n",
    "    \n",
    "    Parameters\n",
    "    ----------\n",
    "    feature_preprocessing_list : list of pyspark.ml.feature objects\n",
    "        Specifies list of feature preprocessing stages.\n",
    "    classifier : pyspark.ml.classification object\n",
    "        Specifies classifier to be used in Pipeline\n",
    "        \n",
    "    Returns\n",
    "    -------\n",
    "    pyspark.ml.pipeline.Pipeline object\n",
    "        \n",
    "    \"\"\"\n",
    "    stages = feature_preprocessing_list\n",
    "    if classifier is not None:\n",
    "        stages = stages + [classifier]    \n",
    "    return Pipeline(stages=stages)"
   ]
  },
  {
   "cell_type": "code",
   "execution_count": 61,
   "metadata": {},
   "outputs": [],
   "source": [
    "feature_preprocessing = [*cvs, va1, ia, si, ohe, va2, ss]\n"
   ]
  },
  {
   "cell_type": "markdown",
   "metadata": {},
   "source": [
    "### Train Models"
   ]
  },
  {
   "cell_type": "code",
   "execution_count": 62,
   "metadata": {},
   "outputs": [],
   "source": [
    "from pyspark.ml.tuning import TrainValidationSplit\n",
    "from pyspark.ml.evaluation import MulticlassClassificationEvaluator\n",
    "from pyspark.ml.tuning import ParamGridBuilder"
   ]
  },
  {
   "cell_type": "code",
   "execution_count": 63,
   "metadata": {},
   "outputs": [],
   "source": [
    "f1Evaluator = MulticlassClassificationEvaluator(metricName=\"fMeasureByLabel\", metricLabel=1.0, \n",
    "                                                predictionCol='prediction', labelCol='label')"
   ]
  },
  {
   "cell_type": "code",
   "execution_count": 64,
   "metadata": {},
   "outputs": [],
   "source": [
    "# set path for trained models\n",
    "path = \"models/\""
   ]
  },
  {
   "cell_type": "code",
   "execution_count": 65,
   "metadata": {},
   "outputs": [],
   "source": [
    "def train_model(pipeline, paramGrid, evaluator, trainValSet):\n",
    "    \"\"\"\n",
    "    Find the best model for a training set and return the trained model.\n",
    "    \n",
    "    Parameters\n",
    "    ----------\n",
    "    pipeline : pyspark.ml.pipeline object\n",
    "        \n",
    "    paramGrid : \n",
    "        Grid of parameters to search built with ParamGridBuilder() from pyspark.ml.tuning\n",
    "    evaluator : \n",
    "        Specifies evaluator object to evaluate the training results.\n",
    "    trainValSet : dataframe\n",
    "        \n",
    "    Returns\n",
    "    -------\n",
    "    pyspark.ml.tuning.TrainValidationSplit object fit to trainValSet\n",
    "    \n",
    "    \"\"\"\n",
    "    tvs = TrainValidationSplit(estimator=pipeline,\n",
    "                               estimatorParamMaps=paramGrid,\n",
    "                               evaluator=evaluator,\n",
    "                               # 80% of the data will be used for training, 20% for validation.\n",
    "                               trainRatio=0.8,\n",
    "                               collectSubModels=True)\n",
    "    return tvs.fit(trainValSet)\n",
    "\n",
    "def save_tvs_model(tvsModel, path, modelName):\n",
    "    \"\"\"\n",
    "    Saves the provided TrainValidationSplit model to path.\n",
    "    \n",
    "    Parameter\n",
    "    --------\n",
    "    tvsModel : pyspark.ml.tuning.TrainValidationSplit object\n",
    "        Model to save.\n",
    "    path : str\n",
    "        Path for model.\n",
    "    modelName : str\n",
    "        Custom model name.\n",
    "    \n",
    "    \"\"\"\n",
    "    model_path = path + modelName\n",
    "    tvsModel.write().overwrite().save(model_path)\n"
   ]
  },
  {
   "cell_type": "code",
   "execution_count": 69,
   "metadata": {
    "scrolled": true
   },
   "outputs": [],
   "source": [
    "lrPipeline = make_pipeline(feature_preprocessing, lr)\n",
    "lrParamGrid = (ParamGridBuilder()\n",
    "               .addGrid(lr.regParam, [0.0, 1.0, 2.0])\n",
    "               .addGrid(lr.elasticNetParam, [0.0, 0.5, 1.0])\n",
    "               .build())\n",
    "\n",
    "trainedLrModel = train_model(lrPipeline, lrParamGrid, f1Evaluator, trainValSet)\n",
    "save_tvs_model(trainedLrModel, path, \"lrModel\")"
   ]
  },
  {
   "cell_type": "code",
   "execution_count": 70,
   "metadata": {},
   "outputs": [
    {
     "data": {
      "text/plain": [
       "[0.14285714285714285]"
      ]
     },
     "execution_count": 70,
     "metadata": {},
     "output_type": "execute_result"
    }
   ],
   "source": [
    "trainedLrModel.validationMetrics"
   ]
  },
  {
   "cell_type": "code",
   "execution_count": 72,
   "metadata": {
    "scrolled": true
   },
   "outputs": [],
   "source": [
    "rfcPipeline = make_pipeline(feature_preprocessing, rfc)\n",
    "rfcParamGrid = (ParamGridBuilder()\n",
    "                .addGrid(rfc.maxDepth, [2, 5, 15, 30])\n",
    "                .addGrid(rfc.numTrees, [100])\n",
    "                .addGrid(rfc.minInstancesPerNode, [1, 2, 5])\n",
    "                .addGrid(rfc.seed, [42])\n",
    "                .build())\n",
    "\n",
    "trainedRfcModel = train_model(rfcPipeline, rfcParamGrid, f1Evaluator, trainValSet)\n",
    "save_tvs_model(trainedRfcModel, path, \"rfcModel\")\n"
   ]
  },
  {
   "cell_type": "code",
   "execution_count": null,
   "metadata": {},
   "outputs": [],
   "source": [
    "trainedRfcModel.validationMetrics"
   ]
  },
  {
   "cell_type": "code",
   "execution_count": 130,
   "metadata": {},
   "outputs": [],
   "source": [
    "gbtcPipeline = make_pipeline(feature_preprocessing, gbtc)\n",
    "gbtcParamGrid = (ParamGridBuilder()\n",
    "                  .addGrid(gbtc.maxDepth, [2, 5, 15, 30])\n",
    "                  .addGrid(gbtc.stepSize, [0.05, 0.1, 0.3])\n",
    "                  .addGrid(gbtc.subsamplingRate, [1])\n",
    "                  .addGrid(gbtc.seed, [42])\n",
    "                  .build())\n",
    "\n",
    "trainedGbtcModel = train_model(gbtcPipeline, gbtcParamGrid, f1Evaluator, trainValSet)\n",
    "save_tvs_model(trainedgbtcModel, path, \"gbtcModel\")\n"
   ]
  },
  {
   "cell_type": "code",
   "execution_count": null,
   "metadata": {},
   "outputs": [],
   "source": [
    "trainedGbtcModel.validationMetrics"
   ]
  },
  {
   "cell_type": "code",
   "execution_count": 77,
   "metadata": {},
   "outputs": [],
   "source": [
    "lsvcPipeline = make_pipeline(feature_preprocessing, lsvc)\n",
    "lsvcParamGrid = (ParamGridBuilder()\n",
    "                  .addGrid(lsvc.regParam, [0, 0.1, 0.2, 0.5])\n",
    "                  .addGrid(lsvc.standardization, [False])\n",
    "                  .build())\n",
    "\n",
    "trainedLsvcModel = train_model(lsvcPipeline, lsvcParamGrid, f1Evaluator, trainValSet)\n",
    "save_tvs_model(trainedLsvcModel, path, \"lsvcModel\")"
   ]
  },
  {
   "cell_type": "code",
   "execution_count": 78,
   "metadata": {},
   "outputs": [
    {
     "data": {
      "text/plain": [
       "[0.0909090909090909, 0.09999999999999999, 0.0, 0.0]"
      ]
     },
     "execution_count": 78,
     "metadata": {},
     "output_type": "execute_result"
    }
   ],
   "source": [
    "trainedLsvcModel.validationMetrics"
   ]
  },
  {
   "cell_type": "markdown",
   "metadata": {},
   "source": [
    "### Test Models on Test Set"
   ]
  },
  {
   "cell_type": "code",
   "execution_count": 82,
   "metadata": {},
   "outputs": [],
   "source": [
    "from pyspark.ml.tuning import TrainValidationSplitModel # Needed for loading the model\n",
    "\n",
    "def read_tvs_model(path, modelName):\n",
    "    \"\"\"\n",
    "    Reads and returns a stored model. \n",
    "    \n",
    "    Parameters\n",
    "    ----------\n",
    "    path : str\n",
    "        Path to model.\n",
    "    modelName : str\n",
    "        Model name.\n",
    "    \n",
    "    Returns\n",
    "    -------\n",
    "    pyspark.ml.tuning.TrainValidationSplit object\n",
    "    \n",
    "    \"\"\"\n",
    "    model_path = path + modelName\n",
    "    tvsModel = TrainValidationSplitModel.read().load(model_path)\n",
    "    return tvsModel\n",
    "\n",
    "def evaluate_model(model, testSet, metric=\"fMeasureByLabel\"):\n",
    "    \"\"\"\n",
    "    Parameters\n",
    "    ----------\n",
    "    model : pyspark.ml model object \n",
    "        Specifies a fit model to be evaluated.\n",
    "    testSet : dataframe\n",
    "        Dataframe for which prediction are evaluated.\n",
    "    metric : {\"fMeasureByLabel\", \"f1\", \"recallByLabel\", \"precisionByLabel\"}, default=\"fMeasureByLabel\"\n",
    "        Specifies the metric to calculate. Takes all metrics available in MulticlassClassificationEvaluator\n",
    "    \n",
    "    Returns\n",
    "    -------\n",
    "    The result for the specified metric on the test set.\n",
    "    \n",
    "    \"\"\"\n",
    "    result = model.transform(testSet)\n",
    "    \n",
    "    evaluator = MulticlassClassificationEvaluator(metricName=metric, metricLabel=1.0)\n",
    "    \n",
    "    return evaluator.evaluate(result)"
   ]
  },
  {
   "cell_type": "markdown",
   "metadata": {},
   "source": [
    "#### Logistic Regression - Results"
   ]
  },
  {
   "cell_type": "code",
   "execution_count": 115,
   "metadata": {},
   "outputs": [
    {
     "name": "stdout",
     "output_type": "stream",
     "text": [
      "f1-score: 0.1904761904761905\n",
      "Recall: 0.2\n",
      "Precision: 0.18181818181818182\n"
     ]
    }
   ],
   "source": [
    "lrModel = trainedLrModel.bestModel #read_tvs_model(path, \"lrModel\")\n",
    "print(f\"f1-score: {evaluate_model(lrModel, testSet, 'fMeasureByLabel')}\")\n",
    "print(f\"Recall: {evaluate_model(lrModel, testSet, 'recallByLabel')}\")\n",
    "print(f\"Precision: {evaluate_model(lrModel, testSet, 'precisionByLabel')}\")"
   ]
  },
  {
   "cell_type": "code",
   "execution_count": 87,
   "metadata": {},
   "outputs": [],
   "source": [
    "lrPred = lrModel.transform(testSet)"
   ]
  },
  {
   "cell_type": "code",
   "execution_count": 88,
   "metadata": {},
   "outputs": [
    {
     "name": "stdout",
     "output_type": "stream",
     "text": [
      "+-----+---+---+\n",
      "|label|0.0|1.0|\n",
      "+-----+---+---+\n",
      "|  0.0| 60|  9|\n",
      "|  1.0|  8|  2|\n",
      "+-----+---+---+\n",
      "\n"
     ]
    }
   ],
   "source": [
    "lrPred.select(\"label\", \"prediction\").groupBy(\"label\").pivot(\"prediction\").count().show()"
   ]
  },
  {
   "cell_type": "markdown",
   "metadata": {},
   "source": [
    "#### Random Forest - Results"
   ]
  },
  {
   "cell_type": "code",
   "execution_count": 89,
   "metadata": {},
   "outputs": [
    {
     "name": "stdout",
     "output_type": "stream",
     "text": [
      "0.7951113051069402\n"
     ]
    }
   ],
   "source": [
    "rfcModel = trainedRfcModel.bestModel #  = read_tvs_model(path, \"rfcModel\")\n"
   ]
  },
  {
   "cell_type": "code",
   "execution_count": 102,
   "metadata": {},
   "outputs": [
    {
     "name": "stdout",
     "output_type": "stream",
     "text": [
      "f1-score: 0.0\n",
      "Recall: 0.0\n",
      "Precision: 0.0\n"
     ]
    }
   ],
   "source": [
    "print(f\"f1-score: {evaluate_model(rfcModel, testSet, 'fMeasureByLabel')}\")\n",
    "print(f\"Recall: {evaluate_model(rfcModel, testSet, 'recallByLabel')}\")\n",
    "print(f\"Precision: {evaluate_model(rfcModel, testSet, 'precisionByLabel')}\")"
   ]
  },
  {
   "cell_type": "code",
   "execution_count": 90,
   "metadata": {},
   "outputs": [],
   "source": [
    "rfcPred = rfcModel.transform(testSet)"
   ]
  },
  {
   "cell_type": "code",
   "execution_count": 91,
   "metadata": {},
   "outputs": [
    {
     "name": "stdout",
     "output_type": "stream",
     "text": [
      "+-----+---+----+\n",
      "|label|0.0| 1.0|\n",
      "+-----+---+----+\n",
      "|  0.0| 66|   3|\n",
      "|  1.0| 10|null|\n",
      "+-----+---+----+\n",
      "\n"
     ]
    }
   ],
   "source": [
    "rfcPred.select(\"label\", \"prediction\").groupBy(\"label\").pivot(\"prediction\", values=[0.0, 1.0]).count().show()"
   ]
  },
  {
   "cell_type": "markdown",
   "metadata": {},
   "source": [
    "#### Gradient-Boosted Trees - Results"
   ]
  },
  {
   "cell_type": "code",
   "execution_count": 105,
   "metadata": {},
   "outputs": [],
   "source": [
    "gbtcModel = trainedGbtcModel.bestModel\n"
   ]
  },
  {
   "cell_type": "code",
   "execution_count": 106,
   "metadata": {},
   "outputs": [
    {
     "name": "stdout",
     "output_type": "stream",
     "text": [
      "f1-score: 0.0\n",
      "Recall: 0.0\n",
      "Precision: 0.0\n"
     ]
    }
   ],
   "source": [
    "print(f\"f1-score: {evaluate_model(gbtcModel, testSet, 'fMeasureByLabel')}\")\n",
    "print(f\"Recall: {evaluate_model(gbtcModel, testSet, 'recallByLabel')}\")\n",
    "print(f\"Precision: {evaluate_model(gbtcModel, testSet, 'precisionByLabel')}\")"
   ]
  },
  {
   "cell_type": "code",
   "execution_count": 107,
   "metadata": {},
   "outputs": [],
   "source": [
    "gbtcPred = gbtcModel.transform(testSet)"
   ]
  },
  {
   "cell_type": "code",
   "execution_count": 108,
   "metadata": {},
   "outputs": [
    {
     "name": "stdout",
     "output_type": "stream",
     "text": [
      "+-----+---+----+\n",
      "|label|0.0| 1.0|\n",
      "+-----+---+----+\n",
      "|  0.0| 63|   6|\n",
      "|  1.0| 10|null|\n",
      "+-----+---+----+\n",
      "\n"
     ]
    }
   ],
   "source": [
    "gbtcPred.select(\"label\", \"prediction\").groupBy(\"label\").pivot(\"prediction\").count().show()"
   ]
  },
  {
   "cell_type": "markdown",
   "metadata": {},
   "source": [
    "#### Linear Support Vector Machine - Results"
   ]
  },
  {
   "cell_type": "code",
   "execution_count": 109,
   "metadata": {},
   "outputs": [],
   "source": [
    "lsvcModel = trainedLsvcModel.bestModel"
   ]
  },
  {
   "cell_type": "code",
   "execution_count": 113,
   "metadata": {},
   "outputs": [
    {
     "name": "stdout",
     "output_type": "stream",
     "text": [
      "f1-score: 0.25\n",
      "Recall: 0.2\n",
      "Precision: 0.3333333333333333\n"
     ]
    }
   ],
   "source": [
    "print(f\"f1-score: {evaluate_model(lsvcModel, testSet, 'fMeasureByLabel')}\")\n",
    "print(f\"Recall: {evaluate_model(lsvcModel, testSet, 'recallByLabel')}\")\n",
    "print(f\"Precision: {evaluate_model(lsvcModel, testSet, 'precisionByLabel')}\")"
   ]
  },
  {
   "cell_type": "code",
   "execution_count": 111,
   "metadata": {},
   "outputs": [],
   "source": [
    "lscvPred = lsvcModel.transform(testSet)"
   ]
  },
  {
   "cell_type": "code",
   "execution_count": 112,
   "metadata": {},
   "outputs": [
    {
     "name": "stdout",
     "output_type": "stream",
     "text": [
      "+-----+---+---+\n",
      "|label|0.0|1.0|\n",
      "+-----+---+---+\n",
      "|  0.0| 65|  4|\n",
      "|  1.0|  8|  2|\n",
      "+-----+---+---+\n",
      "\n"
     ]
    }
   ],
   "source": [
    "lscvPred.select(\"label\", \"prediction\").groupBy(\"label\").pivot(\"prediction\").count().show()"
   ]
  }
 ],
 "metadata": {
  "kernelspec": {
   "display_name": "Python 3",
   "language": "python",
   "name": "python3"
  },
  "language_info": {
   "codemirror_mode": {
    "name": "ipython",
    "version": 3
   },
   "file_extension": ".py",
   "mimetype": "text/x-python",
   "name": "python",
   "nbconvert_exporter": "python",
   "pygments_lexer": "ipython3",
   "version": "3.8.5"
  }
 },
 "nbformat": 4,
 "nbformat_minor": 2
}
